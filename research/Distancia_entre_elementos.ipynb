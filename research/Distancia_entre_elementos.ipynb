{
  "nbformat": 4,
  "nbformat_minor": 0,
  "metadata": {
    "colab": {
      "name": "Distancia entre elementos.ipynb",
      "provenance": []
    },
    "kernelspec": {
      "name": "python3",
      "display_name": "Python 3"
    }
  },
  "cells": [
    {
      "cell_type": "code",
      "metadata": {
        "id": "cuxpduPcBrc8",
        "colab_type": "code",
        "colab": {
          "base_uri": "https://localhost:8080/",
          "height": 71
        },
        "outputId": "04a24d40-9d37-4c8e-ad2c-900658955f89"
      },
      "source": [
        "import collections\n",
        "d = collections.OrderedDict()\n",
        "d[2] = np.array([284, 284])\n",
        "d[3] = np.array([183, 330])\n",
        "d[4] = np.array([180, 335])\n",
        "\n",
        "\n",
        "for k, v in d.items():\n",
        "    print(k, v)"
      ],
      "execution_count": 36,
      "outputs": [
        {
          "output_type": "stream",
          "text": [
            "2 [284 284]\n",
            "3 [183 330]\n",
            "4 [180 335]\n"
          ],
          "name": "stdout"
        }
      ]
    },
    {
      "cell_type": "code",
      "metadata": {
        "id": "Se0DajeuCA0u",
        "colab_type": "code",
        "colab": {
          "base_uri": "https://localhost:8080/",
          "height": 35
        },
        "outputId": "08f4b9c1-3de8-472c-bf39-aae2a9e67248"
      },
      "source": [
        "values = d.values()\n",
        "values = list(values)\n",
        "print(values)"
      ],
      "execution_count": 37,
      "outputs": [
        {
          "output_type": "stream",
          "text": [
            "[array([284, 284]), array([183, 330]), array([180, 335])]\n"
          ],
          "name": "stdout"
        }
      ]
    },
    {
      "cell_type": "code",
      "metadata": {
        "id": "5RqnpfabCHGb",
        "colab_type": "code",
        "colab": {
          "base_uri": "https://localhost:8080/",
          "height": 71
        },
        "outputId": "56b416f6-2c8e-4824-9f14-b46592973e9e"
      },
      "source": [
        "from itertools import combinations\n",
        "for combo in combinations(values, 2):\n",
        "  print(combo)"
      ],
      "execution_count": 38,
      "outputs": [
        {
          "output_type": "stream",
          "text": [
            "(array([284, 284]), array([183, 330]))\n",
            "(array([284, 284]), array([180, 335]))\n",
            "(array([183, 330]), array([180, 335]))\n"
          ],
          "name": "stdout"
        }
      ]
    },
    {
      "cell_type": "code",
      "metadata": {
        "id": "AiWIkPsDCvvh",
        "colab_type": "code",
        "colab": {
          "base_uri": "https://localhost:8080/",
          "height": 35
        },
        "outputId": "088de807-8ecf-4d41-8388-e9f41b57f2fb"
      },
      "source": [
        "def dist(p1, p2):\n",
        "    (x1, y1), (x2, y2) = p1, p2\n",
        "    return np.sqrt((x2 - x1)**2 + (y2 - y1)**2)\n",
        "\n",
        "for p1, p2 in combinations(values, 2):\n",
        "  if  dist(p1, p2) < 10:\n",
        "    print(p1,'Cerca de ', p2)"
      ],
      "execution_count": 42,
      "outputs": [
        {
          "output_type": "stream",
          "text": [
            "[183 330] Cerca de  [180 335]\n"
          ],
          "name": "stdout"
        }
      ]
    },
    {
      "cell_type": "code",
      "metadata": {
        "id": "wTb_pFt8E53O",
        "colab_type": "code",
        "colab": {}
      },
      "source": [
        ""
      ],
      "execution_count": 0,
      "outputs": []
    }
  ]
}